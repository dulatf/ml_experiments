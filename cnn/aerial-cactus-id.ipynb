{
 "cells": [
  {
   "cell_type": "code",
   "execution_count": 1,
   "metadata": {
    "_cell_guid": "b1076dfc-b9ad-4769-8c92-a6c4dae69d19",
    "_uuid": "8f2839f25d086af736a60e9eeb907d3b93b6e0e5"
   },
   "outputs": [
    {
     "name": "stdout",
     "output_type": "stream",
     "text": [
      "['train', 'train.csv', 'sample_submission.csv', 'test']\n"
     ]
    }
   ],
   "source": [
    "import numpy as np # linear algebra\n",
    "import pandas as pd # data processing, CSV file I/O (e.g. pd.read_csv)\n",
    "import os\n",
    "from IPython.display import Image\n",
    "import torch\n",
    "import torchvision\n",
    "from torch.utils.data import DataLoader, Dataset\n",
    "from torch.utils.data.sampler import SubsetRandomSampler\n",
    "from skimage import io\n",
    "import matplotlib.pyplot as plt\n",
    "print(os.listdir(\"../input\"))"
   ]
  },
  {
   "cell_type": "code",
   "execution_count": 2,
   "metadata": {},
   "outputs": [],
   "source": [
    "sub_df = pd.read_csv('../input/sample_submission.csv')"
   ]
  },
  {
   "cell_type": "code",
   "execution_count": 3,
   "metadata": {
    "_cell_guid": "79c7e3d0-c299-4dcb-8224-4455121ee9b0",
    "_uuid": "d629ff2d2480ee46fbb7e2d37f6b5fab8052498a"
   },
   "outputs": [],
   "source": [
    "train_dir = '../input/train/train/'\n",
    "test_dir = '../input/test/test/'"
   ]
  },
  {
   "cell_type": "code",
   "execution_count": 4,
   "metadata": {},
   "outputs": [],
   "source": [
    "class CactusDataset(Dataset):\n",
    "    def __init__(self, csv_file, root_dir, transform=None):\n",
    "        self.df = pd.read_csv(csv_file)\n",
    "        self.root_dir = root_dir\n",
    "        self.transform = transform\n",
    "    def __len__(self):\n",
    "        return len(self.df)\n",
    "    def __getitem__(self, idx):\n",
    "        filename = os.path.join(self.root_dir,self.df.iloc[idx,0])\n",
    "        label = self.df.iloc[idx,1]\n",
    "        image = io.imread(filename)\n",
    "        if self.transform:\n",
    "            image = self.transform(image)\n",
    "        return {'image': image, 'label': label, 'id': self.df.iloc[idx,0]}"
   ]
  },
  {
   "cell_type": "code",
   "execution_count": 5,
   "metadata": {},
   "outputs": [],
   "source": [
    "transformation = torchvision.transforms.Compose([\n",
    "    torchvision.transforms.ToPILImage(),\n",
    "    torchvision.transforms.Resize((32, 32)),\n",
    "    torchvision.transforms.RandomHorizontalFlip(),\n",
    "    torchvision.transforms.RandomRotation(30.0),\n",
    "    torchvision.transforms.ToTensor(),\n",
    "    torchvision.transforms.Normalize((0.5, 0.5, 0.5), (0.5, 0.5, 0.5))\n",
    "])\n",
    "test_transform =  torchvision.transforms.Compose([\n",
    "    torchvision.transforms.ToPILImage(),\n",
    "    torchvision.transforms.Resize((32, 32)),\n",
    "    torchvision.transforms.ToTensor(),\n",
    "    torchvision.transforms.Normalize((0.5, 0.5, 0.5), (0.5, 0.5, 0.5))\n",
    "])"
   ]
  },
  {
   "cell_type": "code",
   "execution_count": 6,
   "metadata": {},
   "outputs": [],
   "source": [
    "train_data = CactusDataset('../input/train.csv',train_dir,transform=transformation)"
   ]
  },
  {
   "cell_type": "code",
   "execution_count": 7,
   "metadata": {},
   "outputs": [],
   "source": [
    "test_data = CactusDataset('../input/sample_submission.csv', test_dir,transform=test_transform)"
   ]
  },
  {
   "cell_type": "code",
   "execution_count": 8,
   "metadata": {},
   "outputs": [],
   "source": [
    "# training - validation split\n",
    "def training_validation_split(size, validation_ratio, shuffle, seed):\n",
    "    indices = list(range(size))\n",
    "    split = int(np.floor(validation_ratio * size))\n",
    "    if shuffle:\n",
    "        np.random.seed(seed)\n",
    "        np.random.shuffle(indices)\n",
    "    train_indices, val_indices = indices[split:], indices[:split]\n",
    "    return SubsetRandomSampler(train_indices), SubsetRandomSampler(val_indices)"
   ]
  },
  {
   "cell_type": "code",
   "execution_count": 9,
   "metadata": {},
   "outputs": [],
   "source": [
    "batch_size=128\n",
    "train_sampler, val_sampler = training_validation_split(len(train_data), 0.2, True, 34)\n",
    "validation_loader = torch.utils.data.DataLoader(train_data, batch_size=batch_size,\n",
    "                                                sampler=val_sampler)\n",
    "train_loader = torch.utils.data.DataLoader(train_data, batch_size=batch_size,\n",
    "                                          sampler=train_sampler)\n",
    "test_loader = torch.utils.data.DataLoader(test_data, batch_size=batch_size)"
   ]
  },
  {
   "cell_type": "code",
   "execution_count": 10,
   "metadata": {},
   "outputs": [],
   "source": [
    "def pixel_count(shape):\n",
    "    return shape[0]*shape[1]*shape[2]\n",
    "raw_pixel_count=pixel_count(next(iter(train_loader))['image'][0].shape)"
   ]
  },
  {
   "cell_type": "code",
   "execution_count": 11,
   "metadata": {},
   "outputs": [],
   "source": [
    "# class FullyConnected(torch.nn.Module):\n",
    "#     def __init__(self, in_dim, hidden_dims):\n",
    "#         super(FullyConnected, self).__init__()\n",
    "#         self.in_dim = in_dim\n",
    "#         self.hidden_dims = hidden_dims\n",
    "#         self.in_layer = torch.nn.Linear(in_dim, hidden_dims[0])\n",
    "#         self.hiddens = torch.nn.ModuleList([torch.nn.Linear(hidden_dims[i-1], hidden_dims[i]) for i in range(1,len(hidden_dims))])\n",
    "#         self.out_layer = torch.nn.Linear(hidden_dims[-1], 2)\n",
    "#         self.soft = torch.nn.LogSoftmax(dim=1)\n",
    "#     def forward(self, x):\n",
    "#         x = x.view(-1,self.in_dim)\n",
    "#         x = torch.relu(self.in_layer(x))\n",
    "#         for l in self.hiddens:\n",
    "#             x = torch.relu(l(x))\n",
    "#         x = self.out_layer(x)\n",
    "#         x = self.soft(x)\n",
    "        \n",
    "#         return x"
   ]
  },
  {
   "cell_type": "code",
   "execution_count": 12,
   "metadata": {},
   "outputs": [],
   "source": [
    "# criterion = torch.nn.CrossEntropyLoss()\n",
    "# optimizer = torch.optim.SGD(net.parameters(), lr=1.0e-3,momentum=0.9)\n",
    "# epochs = 10"
   ]
  },
  {
   "cell_type": "code",
   "execution_count": 13,
   "metadata": {},
   "outputs": [
    {
     "name": "stdout",
     "output_type": "stream",
     "text": [
      "cuda:0\n"
     ]
    }
   ],
   "source": [
    "device = torch.device('cuda:0' if torch.cuda.is_available() else 'cpu')\n",
    "print(device)"
   ]
  },
  {
   "cell_type": "code",
   "execution_count": 14,
   "metadata": {},
   "outputs": [],
   "source": [
    "# net = FullyConnected(in_dim = raw_pixel_count, hidden_dims=[128,32]).to(device=device)"
   ]
  },
  {
   "cell_type": "code",
   "execution_count": 15,
   "metadata": {},
   "outputs": [],
   "source": [
    "# losses = []\n",
    "# for i in range(epochs):\n",
    "#     print('Running epoch {}'.format(i))\n",
    "#     for t, samp in enumerate(train_loader,0):\n",
    "#         image = samp['image'].to(device=device)\n",
    "#         label = samp['label'].to(device=device)\n",
    "#         y_pred = net(image)\n",
    "#         y_true = label\n",
    "#         loss = criterion(y_pred, y_true)\n",
    "#         optimizer.zero_grad()\n",
    "#         loss.backward()\n",
    "#         optimizer.step()\n",
    "#         losses.append(loss.item())"
   ]
  },
  {
   "cell_type": "code",
   "execution_count": 16,
   "metadata": {},
   "outputs": [],
   "source": [
    "# correct=0\n",
    "# total = 0\n",
    "# with torch.no_grad():\n",
    "#     for samp in train_loader:\n",
    "#         image = samp['image'].to(device=device)\n",
    "#         label = samp['label'].to(device=device)\n",
    "#         y_pred = net(image)\n",
    "#         y_true = label\n",
    "#         pred_cat = y_pred.max(-1)[1]\n",
    "#         for i in range(len(pred_cat)):\n",
    "#             if pred_cat[i] == y_true[i]:\n",
    "#                 correct+=1\n",
    "#             total +=1\n",
    "# print('{} of {} labels are correct, accuracy: {}%'.format(correct, total, correct/total*100.0))"
   ]
  },
  {
   "cell_type": "code",
   "execution_count": 17,
   "metadata": {},
   "outputs": [],
   "source": [
    "from math import floor\n",
    "def conv_size(input_size, padding, dilation, kernel_size, stride):\n",
    "    return floor((input_size + 2*padding - dilation*(kernel_size-1)-1)/stride+1)"
   ]
  },
  {
   "cell_type": "code",
   "execution_count": 18,
   "metadata": {},
   "outputs": [
    {
     "data": {
      "text/plain": [
       "1"
      ]
     },
     "execution_count": 18,
     "metadata": {},
     "output_type": "execute_result"
    }
   ],
   "source": [
    "conv_size(1, 0, 1, 1, 1)"
   ]
  },
  {
   "cell_type": "code",
   "execution_count": 19,
   "metadata": {},
   "outputs": [],
   "source": [
    "class Convolutional(torch.nn.Module):\n",
    "    def __init__(self):\n",
    "        super(Convolutional, self).__init__()\n",
    "        self.soft = torch.nn.LogSoftmax(dim=1)\n",
    "        \n",
    "        self.layer1 = torch.nn.Sequential(\n",
    "            torch.nn.Conv2d(in_channels=3,\n",
    "                           out_channels=32,\n",
    "                           kernel_size=3,\n",
    "                           padding=1), #3x32x32 -> 64 x 32 x 32\n",
    "            torch.nn.ReLU(),\n",
    "            torch.nn.MaxPool2d(2,stride=2), # -> 64 x 16 x 16\n",
    "        )\n",
    "        self.layer2 = torch.nn.Sequential(\n",
    "            torch.nn.Conv2d(in_channels=32,\n",
    "                           out_channels=64,\n",
    "                           kernel_size=3,\n",
    "                           padding=1), # 64 x 16x16 -> 128 x 16x16\n",
    "            torch.nn.ReLU(),\n",
    "            torch.nn.MaxPool2d(2,stride=2), # 128 x 8 x 8\n",
    "        )\n",
    "        self.layer3 = torch.nn.Sequential(\n",
    "            torch.nn.Conv2d(in_channels=64,\n",
    "                           out_channels=128,\n",
    "                           kernel_size=3,\n",
    "                           padding=1), # 128 x 8x8 -> 256 x 8x8\n",
    "            torch.nn.ReLU(),\n",
    "            torch.nn.MaxPool2d(2,stride=2), # 256 x 4 x 4\n",
    "        )\n",
    "        self.layer4 = torch.nn.Sequential(\n",
    "            torch.nn.Conv2d(in_channels=128,\n",
    "                           out_channels=256,\n",
    "                           kernel_size=3,\n",
    "                           padding=1), # 256 x 4x4 -> 512 x 4x4\n",
    "            torch.nn.ReLU(),\n",
    "            torch.nn.MaxPool2d(2,stride=2), # 512 x 2 x 2\n",
    "        )\n",
    "        self.layer5 = torch.nn.Sequential(\n",
    "            torch.nn.Conv2d(in_channels=256,\n",
    "                           out_channels=512,\n",
    "                           kernel_size=3,\n",
    "                           padding=1), # 512 x 2x2 -> 1024 x 2x2\n",
    "            torch.nn.ReLU(),\n",
    "            torch.nn.MaxPool2d(2,stride=2), # 1024 x 1 x 1\n",
    "        )\n",
    "        self.final1 = torch.nn.Conv2d(in_channels=512,\n",
    "                                     out_channels=128,\n",
    "                                     kernel_size=1,\n",
    "                                     padding=0)\n",
    "        self.final2 = torch.nn.Conv2d(in_channels=128,\n",
    "                                     out_channels=32,\n",
    "                                     kernel_size=1,\n",
    "                                     padding=0)\n",
    "        self.final3 = torch.nn.Conv2d(in_channels=32,\n",
    "                                     out_channels=2,\n",
    "                                     kernel_size=1,\n",
    "                                     padding=0)\n",
    "        self.dropout = torch.nn.Dropout()\n",
    "    def forward(self, x):\n",
    "        x = self.dropout(self.layer1(x))\n",
    "        x = self.dropout(self.layer2(x))\n",
    "        x = self.dropout(self.layer3(x))\n",
    "        x = self.dropout(self.layer4(x))\n",
    "        x = self.dropout(self.layer5(x))\n",
    "        x = self.final3(self.final2(self.final1(x)))\n",
    "        \n",
    "        return x"
   ]
  },
  {
   "cell_type": "code",
   "execution_count": 20,
   "metadata": {},
   "outputs": [],
   "source": [
    "cnn = Convolutional().to(device=device)"
   ]
  },
  {
   "cell_type": "code",
   "execution_count": 21,
   "metadata": {},
   "outputs": [],
   "source": [
    "def compute_accuracy(data):\n",
    "    overall = 0\n",
    "    correct = 0\n",
    "    #cnn.eval()\n",
    "    with torch.no_grad():\n",
    "        for samp in data:\n",
    "            image = samp['image'].to(device=device)\n",
    "            label = samp['label'].to(device=device)\n",
    "            y_pred = cnn(image).view(-1,2)\n",
    "            y_true = label\n",
    "            tot = y_true.size(0)\n",
    "            _, predicted = torch.max(y_pred.data, 1)\n",
    "            cor = (predicted == y_true).sum().item()\n",
    "            overall += tot\n",
    "            correct += cor\n",
    "    return (correct/overall)"
   ]
  },
  {
   "cell_type": "code",
   "execution_count": 22,
   "metadata": {},
   "outputs": [
    {
     "name": "stdout",
     "output_type": "stream",
     "text": [
      "Running epoch 0\n",
      "Running epoch 1\n",
      "Running epoch 2\n",
      "Running epoch 3\n",
      "Running epoch 4\n",
      "Running epoch 5\n",
      "Running epoch 6\n",
      "Running epoch 7\n",
      "Running epoch 8\n",
      "Running epoch 9\n",
      "Running epoch 10\n",
      "Running epoch 11\n",
      "Running epoch 12\n",
      "Running epoch 13\n",
      "Running epoch 14\n",
      "Running epoch 15\n",
      "Running epoch 16\n",
      "Running epoch 17\n",
      "Running epoch 18\n",
      "Running epoch 19\n",
      "Running epoch 20\n",
      "Running epoch 21\n",
      "Running epoch 22\n",
      "Running epoch 23\n",
      "Running epoch 24\n",
      "Running epoch 25\n",
      "Running epoch 26\n",
      "Running epoch 27\n",
      "Running epoch 28\n",
      "Running epoch 29\n",
      "Running epoch 30\n",
      "Running epoch 31\n",
      "Running epoch 32\n",
      "Running epoch 33\n",
      "Running epoch 34\n",
      "Running epoch 35\n",
      "Running epoch 36\n",
      "Running epoch 37\n",
      "Running epoch 38\n",
      "Running epoch 39\n",
      "Running epoch 40\n",
      "Running epoch 41\n",
      "Running epoch 42\n",
      "Running epoch 43\n",
      "Running epoch 44\n",
      "Running epoch 45\n",
      "Running epoch 46\n",
      "Running epoch 47\n",
      "Running epoch 48\n",
      "Running epoch 49\n",
      "Running epoch 50\n",
      "Running epoch 51\n",
      "Running epoch 52\n",
      "Running epoch 53\n",
      "Running epoch 54\n",
      "Running epoch 55\n",
      "Running epoch 56\n",
      "Running epoch 57\n",
      "Running epoch 58\n",
      "Running epoch 59\n",
      "Running epoch 60\n",
      "Running epoch 61\n",
      "Running epoch 62\n",
      "Running epoch 63\n",
      "Running epoch 64\n",
      "Running epoch 65\n",
      "Running epoch 66\n",
      "Running epoch 67\n",
      "Running epoch 68\n",
      "Running epoch 69\n",
      "Running epoch 70\n",
      "Running epoch 71\n",
      "Running epoch 72\n",
      "Running epoch 73\n",
      "Running epoch 74\n",
      "Running epoch 75\n",
      "Running epoch 76\n",
      "Running epoch 77\n",
      "Running epoch 78\n",
      "Running epoch 79\n",
      "Running epoch 80\n",
      "Running epoch 81\n",
      "Running epoch 82\n",
      "Running epoch 83\n",
      "Running epoch 84\n",
      "Running epoch 85\n",
      "Running epoch 86\n",
      "Running epoch 87\n",
      "Running epoch 88\n",
      "Running epoch 89\n",
      "Running epoch 90\n",
      "Running epoch 91\n",
      "Running epoch 92\n",
      "Running epoch 93\n",
      "Running epoch 94\n",
      "Running epoch 95\n",
      "Running epoch 96\n",
      "Running epoch 97\n",
      "Running epoch 98\n",
      "Running epoch 99\n",
      "Training finished\n"
     ]
    }
   ],
   "source": [
    "criterion = torch.nn.CrossEntropyLoss()\n",
    "optimizer = torch.optim.Adam(cnn.parameters(), lr=1.0e-4)\n",
    "epochs = 100\n",
    "losses = []\n",
    "train_accs = []\n",
    "val_accs = []\n",
    "for i in range(epochs):\n",
    "    print('Running epoch {}'.format(i))\n",
    "    #cnn.train()\n",
    "    for t, samp in enumerate(train_loader,0):\n",
    "        image = samp['image'].to(device=device)\n",
    "        label = samp['label'].to(device=device)\n",
    "        y_pred = cnn(image).view(-1,2)\n",
    "        y_true = label\n",
    "        loss = criterion(y_pred, y_true)\n",
    "        optimizer.zero_grad()\n",
    "        loss.backward()\n",
    "        optimizer.step()\n",
    "        losses.append(loss.item())\n",
    "        total = y_true.size(0)\n",
    "        _, predicted = torch.max(y_pred.data, 1)\n",
    "        correct = (predicted == y_true).sum().item()\n",
    "        train_accs.append(correct/total)\n",
    "    val_accs.append(compute_accuracy(validation_loader))\n",
    "print('Training finished')"
   ]
  },
  {
   "cell_type": "code",
   "execution_count": 23,
   "metadata": {},
   "outputs": [
    {
     "data": {
      "text/plain": [
       "[<matplotlib.lines.Line2D at 0x7fa03d33ef98>]"
      ]
     },
     "execution_count": 23,
     "metadata": {},
     "output_type": "execute_result"
    },
    {
     "data": {
      "image/png": "[encoded data removed]",
      "text/plain": [
       "<Figure size 432x288 with 1 Axes>"
      ]
     },
     "metadata": {
      "needs_background": "light"
     },
     "output_type": "display_data"
    }
   ],
   "source": [
    "plt.plot(losses)"
   ]
  },
  {
   "cell_type": "code",
   "execution_count": 24,
   "metadata": {},
   "outputs": [
    {
     "data": {
      "text/plain": [
       "[<matplotlib.lines.Line2D at 0x7fa03d2d6da0>]"
      ]
     },
     "execution_count": 24,
     "metadata": {},
     "output_type": "execute_result"
    },
    {
     "data": {
      "image/png": "[encoded data removed]",
      "text/plain": [
       "<Figure size 432x288 with 1 Axes>"
      ]
     },
     "metadata": {
      "needs_background": "light"
     },
     "output_type": "display_data"
    }
   ],
   "source": [
    "plt.plot(train_accs)"
   ]
  },
  {
   "cell_type": "code",
   "execution_count": 25,
   "metadata": {},
   "outputs": [
    {
     "data": {
      "text/plain": [
       "[<matplotlib.lines.Line2D at 0x7fa03d242ac8>]"
      ]
     },
     "execution_count": 25,
     "metadata": {},
     "output_type": "execute_result"
    },
    {
     "data": {
      "image/png": "[encoded data removed]",
      "text/plain": [
       "<Figure size 432x288 with 1 Axes>"
      ]
     },
     "metadata": {
      "needs_background": "light"
     },
     "output_type": "display_data"
    }
   ],
   "source": [
    "plt.plot(val_accs)"
   ]
  },
  {
   "cell_type": "code",
   "execution_count": 26,
   "metadata": {},
   "outputs": [],
   "source": [
    "cnn.eval()\n",
    "with torch.no_grad():\n",
    "    for sample in test_loader:\n",
    "        image = sample['image'].to(device=device)\n",
    "        y_pred = cnn(image).view(-1,2)\n",
    "        probs = torch.nn.functional.softmax(y_pred,dim=1)\n",
    "        has_cactus = probs[:,1]\n",
    "        for i in range(len(image)):\n",
    "            sub_df.loc[sub_df['id']==sample['id'][i],'has_cactus'] = has_cactus[i].item()"
   ]
  },
  {
   "cell_type": "code",
   "execution_count": 27,
   "metadata": {},
   "outputs": [],
   "source": [
    "sub_df.to_csv('submission.csv',index=False)"
   ]
  },
  {
   "cell_type": "code",
   "execution_count": null,
   "metadata": {},
   "outputs": [],
   "source": []
  }
 ],
 "metadata": {
  "kernelspec": {
   "display_name": "Python 3",
   "language": "python",
   "name": "python3"
  },
  "language_info": {
   "codemirror_mode": {
    "name": "ipython",
    "version": 3
   },
   "file_extension": ".py",
   "mimetype": "text/x-python",
   "name": "python",
   "nbconvert_exporter": "python",
   "pygments_lexer": "ipython3",
   "version": "3.6.6"
  }
 },
 "nbformat": 4,
 "nbformat_minor": 1
}
