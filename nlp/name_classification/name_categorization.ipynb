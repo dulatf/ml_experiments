{
 "cells": [
  {
   "cell_type": "code",
   "execution_count": 73,
   "metadata": {},
   "outputs": [],
   "source": [
    "import os, glob\n",
    "from io import open\n",
    "import string \n",
    "import unicodedata\n",
    "import torch\n",
    "import torch.nn as nn\n",
    "import random\n",
    "import time, math\n",
    "import matplotlib.pyplot as plt\n",
    "import matplotlib.ticker as ticker"
   ]
  },
  {
   "cell_type": "markdown",
   "metadata": {},
   "source": [
    "# Load data"
   ]
  },
  {
   "cell_type": "code",
   "execution_count": 3,
   "metadata": {},
   "outputs": [],
   "source": [
    "filenames=glob.glob('data/names/*.txt')\n",
    "all_letters = string.ascii_letters + \" .,;'\""
   ]
  },
  {
   "cell_type": "code",
   "execution_count": 4,
   "metadata": {},
   "outputs": [],
   "source": [
    "def unicodeToAscii(s):\n",
    "    return ''.join(\n",
    "    c for c in unicodedata.normalize('NFD',s)\n",
    "    if unicodedata.category(c) != 'Mn' and c in all_letters)\n",
    "def readLines(filename):\n",
    "    lines = open(filename, encoding='utf-8').read().strip().split('\\n')\n",
    "    return [unicodeToAscii(l) for l in lines]\n",
    "def processFile(filename):\n",
    "    category = os.path.splitext(os.path.basename(filename))[0]\n",
    "    lines = readLines(filename)\n",
    "    return (category, lines)"
   ]
  },
  {
   "cell_type": "code",
   "execution_count": 5,
   "metadata": {},
   "outputs": [],
   "source": [
    "category_lines_dict=dict([processFile(filename) for filename in filenames])\n",
    "categories = list(category_lines_dict.keys())"
   ]
  },
  {
   "cell_type": "code",
   "execution_count": 6,
   "metadata": {},
   "outputs": [
    {
     "data": {
      "text/plain": [
       "'Tcharuhin'"
      ]
     },
     "execution_count": 6,
     "metadata": {},
     "output_type": "execute_result"
    }
   ],
   "source": [
    "category_lines_dict['Russian'][-2004]"
   ]
  },
  {
   "cell_type": "code",
   "execution_count": 7,
   "metadata": {},
   "outputs": [],
   "source": [
    "def letterToIndex(l):\n",
    "    return all_letters.find(l)\n",
    "def lineToTensor(line):\n",
    "    tensor = torch.zeros(len(line),1,len(all_letters))\n",
    "    for i,l in enumerate(line):\n",
    "        tensor[i][0][letterToIndex(l)]=1\n",
    "    return tensor"
   ]
  },
  {
   "cell_type": "markdown",
   "metadata": {},
   "source": [
    "# Define network"
   ]
  },
  {
   "cell_type": "code",
   "execution_count": 140,
   "metadata": {},
   "outputs": [],
   "source": [
    "class RNN(nn.Module):\n",
    "    def __init__(self, input_size, hidden_size, output_size):\n",
    "        super(RNN, self).__init__()\n",
    "        self.hidden_size = hidden_size\n",
    "        \n",
    "        self.i2hpre = nn.Linear(input_size + hidden_size, input_size + hidden_size)\n",
    "        self.i2h = nn.Linear(input_size + hidden_size, hidden_size)\n",
    "        self.i2opre = nn.Linear(input_size + hidden_size, input_size + hidden_size)\n",
    "        self.i2o = nn.Linear(input_size + hidden_size, output_size)\n",
    "        self.softmax = nn.LogSoftmax(dim=1)\n",
    "        self.tanh = nn.Tanh()\n",
    "    def forward(self, input, hidden):\n",
    "        combined = torch.cat((input, hidden), 1)\n",
    "        \n",
    "        hidden_pre = self.i2hpre(combined)\n",
    "        hidden_pre= self.tanh(hidden_pre)\n",
    "        hidden = self.i2h(hidden_pre)\n",
    "        \n",
    "        output_pre = self.i2opre(combined)\n",
    "        output_pre = self.tanh(output_pre)\n",
    "        output = self.i2o(output_pre)\n",
    "        \n",
    "        output = self.softmax(output)\n",
    "#         hidden = self.i2h(combined)\n",
    "#         output = self.i2o(combined)\n",
    "#         output = self.softmax(output)\n",
    "        \n",
    "        return output, hidden\n",
    "    def initHidden(self):\n",
    "        return torch.zeros(1, self.hidden_size)\n"
   ]
  },
  {
   "cell_type": "markdown",
   "metadata": {},
   "source": [
    "# Util"
   ]
  },
  {
   "cell_type": "code",
   "execution_count": 141,
   "metadata": {},
   "outputs": [],
   "source": [
    "def categoryFromOutput(output):\n",
    "    top_n, top_i = output.topk(1)\n",
    "    cat_i = top_i[0].item()\n",
    "    return categories[cat_i], cat_i\n",
    "def randomChoice(l):\n",
    "    return l[random.randint(0,len(l)-1)]\n",
    "\n",
    "def randomTrainingExample():\n",
    "    cat_i = random.randint(0, len(categories)-1)\n",
    "    category = categories[cat_i]\n",
    "    line = randomChoice(category_lines_dict[category])\n",
    "    cat_tensor = torch.tensor([cat_i],dtype=torch.long)\n",
    "    line_tensor = lineToTensor(line)\n",
    "    return category, line, cat_tensor, line_tensor"
   ]
  },
  {
   "cell_type": "code",
   "execution_count": 142,
   "metadata": {},
   "outputs": [
    {
     "data": {
      "text/plain": [
       "'b'"
      ]
     },
     "execution_count": 142,
     "metadata": {},
     "output_type": "execute_result"
    }
   ],
   "source": [
    "randomChoice([\"a\",\"b\",\"c\"])"
   ]
  },
  {
   "cell_type": "markdown",
   "metadata": {},
   "source": [
    "# Train"
   ]
  },
  {
   "cell_type": "code",
   "execution_count": 143,
   "metadata": {},
   "outputs": [],
   "source": [
    "rnn = RNN(len(all_letters), 128, len(categories))\n",
    "criterion = nn.NLLLoss()\n",
    "learning_rate = 0.005"
   ]
  },
  {
   "cell_type": "code",
   "execution_count": 144,
   "metadata": {},
   "outputs": [],
   "source": [
    "def train(category_tensor, line_tensor):\n",
    "    hidden = rnn.initHidden()\n",
    "    rnn.zero_grad()\n",
    "    \n",
    "    for i in range(line_tensor.size()[0]):\n",
    "        output, hidden = rnn(line_tensor[i], hidden)\n",
    "        \n",
    "    loss = criterion(output, category_tensor)\n",
    "    loss.backward()\n",
    "    \n",
    "    for p in rnn.parameters():\n",
    "        p.data.add_(-learning_rate, p.grad.data)\n",
    "        \n",
    "    return output, loss.item()"
   ]
  },
  {
   "cell_type": "code",
   "execution_count": 145,
   "metadata": {},
   "outputs": [],
   "source": [
    "def timeSince(since):\n",
    "    now = time.time()\n",
    "    s = now - since\n",
    "    m = math.floor(s/60)\n",
    "    s -= m * 60\n",
    "    return '{}m {:.2f}s'.format(m, s)"
   ]
  },
  {
   "cell_type": "code",
   "execution_count": 146,
   "metadata": {},
   "outputs": [],
   "source": [
    "n_iters = 1000000\n",
    "print_every = 5000\n",
    "plot_every = 1000"
   ]
  },
  {
   "cell_type": "code",
   "execution_count": 147,
   "metadata": {},
   "outputs": [
    {
     "data": {
      "text/plain": [
       "'0m 12.05s'"
      ]
     },
     "execution_count": 147,
     "metadata": {},
     "output_type": "execute_result"
    }
   ],
   "source": [
    "timeSince(start)"
   ]
  },
  {
   "cell_type": "code",
   "execution_count": 148,
   "metadata": {},
   "outputs": [
    {
     "name": "stdout",
     "output_type": "stream",
     "text": [
      "0 0.0% (0m 0.01s) 2.86 Suk / Irish ✗ (Korean)\n",
      "5000 0.5% (0m 9.15s) 2.93 Bonner / German ✗ (French)\n",
      "10000 1.0% (0m 19.60s) 2.09 Fuwa / Vietnamese ✗ (Japanese)\n",
      "15000 1.5% (0m 28.70s) 2.10 Said / Vietnamese ✗ (Arabic)\n",
      "20000 2.0% (0m 37.54s) 1.84 Hoyle / Scottish ✗ (English)\n",
      "25000 2.5% (0m 47.80s) 1.09 Simoes / Portuguese ✓\n",
      "30000 3.0% (0m 56.92s) 0.29 Soares / Portuguese ✓\n",
      "35000 3.5000000000000004% (1m 5.79s) 0.92 Mackay / Scottish ✓\n",
      "40000 4.0% (1m 14.97s) 0.87 Qing / Chinese ✓\n",
      "45000 4.5% (1m 24.60s) 4.60 Gajos / Greek ✗ (Polish)\n",
      "50000 5.0% (1m 33.62s) 0.32 Shimada / Japanese ✓\n",
      "55000 5.5% (1m 42.71s) 1.61 Murray / Arabic ✗ (English)\n",
      "60000 6.0% (1m 52.74s) 0.43 Akrivopoulos / Greek ✓\n",
      "65000 6.5% (2m 1.57s) 0.80 Kunikida / Japanese ✓\n",
      "70000 7.000000000000001% (2m 10.83s) 1.93 Mcguire / French ✗ (Irish)\n",
      "75000 7.5% (2m 20.76s) 1.11 Ottley / English ✓\n",
      "80000 8.0% (2m 29.69s) 1.49 Gaubrich / Irish ✗ (Russian)\n",
      "85000 8.5% (2m 38.69s) 3.20 Gottlieb / Czech ✗ (German)\n",
      "90000 9.0% (2m 48.52s) 1.90 Merckx / German ✗ (Dutch)\n",
      "95000 9.5% (2m 57.08s) 0.03 Dozortsev / Russian ✓\n",
      "100000 10.0% (3m 5.36s) 0.22 Itagaki / Japanese ✓\n",
      "105000 10.5% (3m 14.24s) 2.51 Bellamy / English ✗ (French)\n",
      "110000 11.0% (3m 23.31s) 0.62 Eng / Chinese ✓\n",
      "115000 11.5% (3m 31.80s) 4.01 Malecha / Portuguese ✗ (Czech)\n",
      "120000 12.0% (3m 40.24s) 0.87 Hagino / Japanese ✓\n",
      "125000 12.5% (3m 49.73s) 0.75 Niall / Irish ✓\n",
      "130000 13.0% (3m 58.26s) 0.29 Ortiz / Spanish ✓\n",
      "135000 13.5% (4m 6.67s) 0.45 Kruger / German ✓\n",
      "140000 14.000000000000002% (4m 15.64s) 0.66 Eng / Chinese ✓\n",
      "145000 14.499999999999998% (4m 24.35s) 0.78 Rahal / Arabic ✓\n",
      "150000 15.0% (4m 32.86s) 1.70 Drew / Dutch ✗ (English)\n",
      "155000 15.5% (4m 41.25s) 0.68 Vivas / Spanish ✓\n",
      "160000 16.0% (4m 50.67s) 1.12 Lane / French ✓\n",
      "165000 16.5% (4m 59.22s) 2.04 Buchholz / Spanish ✗ (German)\n",
      "170000 17.0% (5m 7.84s) 0.04 Musalatov / Russian ✓\n",
      "175000 17.5% (5m 19.01s) 3.67 Althoff / Russian ✗ (English)\n",
      "180000 18.0% (5m 27.34s) 5.10 Ado / Japanese ✗ (Russian)\n",
      "185000 18.5% (5m 35.68s) 1.09 Krivolavy / Czech ✓\n",
      "190000 19.0% (5m 44.41s) 1.80 Elphick / Czech ✗ (English)\n",
      "195000 19.5% (5m 53.52s) 1.85 Ogterop / English ✗ (Dutch)\n",
      "200000 20.0% (6m 1.95s) 0.30 Zhuan / Chinese ✓\n",
      "205000 20.5% (6m 10.36s) 0.08 Nijo / Japanese ✓\n",
      "210000 21.0% (6m 19.75s) 0.22 Tahan / Arabic ✓\n",
      "215000 21.5% (6m 28.34s) 1.73 Sinclair / French ✗ (Scottish)\n",
      "220000 22.0% (6m 36.62s) 1.96 Tilson / Scottish ✗ (English)\n",
      "225000 22.5% (6m 45.42s) 1.62 Duguay / Scottish ✗ (French)\n",
      "230000 23.0% (6m 54.50s) 1.02 Nunes / Portuguese ✓\n",
      "235000 23.5% (7m 2.85s) 1.33 Stolarz / Spanish ✗ (Polish)\n",
      "240000 24.0% (7m 11.25s) 0.43 Shui / Chinese ✓\n",
      "245000 24.5% (7m 20.69s) 0.05 Poletti / Italian ✓\n",
      "250000 25.0% (7m 29.10s) 0.38 Mustafa / Arabic ✓\n",
      "255000 25.5% (7m 37.37s) 2.32 Lamar / English ✗ (French)\n",
      "260000 26.0% (7m 46.48s) 0.60 Ritchie / Scottish ✓\n",
      "265000 26.5% (7m 55.60s) 0.59 Sokoloff / Polish ✓\n",
      "270000 27.0% (8m 4.19s) 4.29 Rey / French ✗ (Spanish)\n",
      "275000 27.500000000000004% (8m 12.87s) 1.81 Douglas / Greek ✗ (Scottish)\n",
      "280000 28.000000000000004% (8m 22.67s) 0.24 Belo / Portuguese ✓\n",
      "285000 28.499999999999996% (8m 31.02s) 0.04 Sotiris / Greek ✓\n",
      "290000 28.999999999999996% (8m 39.63s) 1.86 Voigts / French ✗ (German)\n",
      "295000 29.5% (8m 49.16s) 0.04 Thai / Vietnamese ✓\n",
      "300000 30.0% (8m 57.58s) 0.32 Kaluza / Polish ✓\n",
      "305000 30.5% (9m 6.01s) 0.26 Yeon / Korean ✓\n",
      "310000 31.0% (9m 15.08s) 0.05 Djamaldinov / Russian ✓\n",
      "315000 31.5% (9m 24.06s) 0.91 Jiggens / Dutch ✗ (English)\n",
      "320000 32.0% (9m 32.58s) 3.95 Lomax / French ✗ (English)\n",
      "325000 32.5% (9m 41.16s) 0.00 Gwang  / Korean ✓\n",
      "330000 33.0% (9m 50.85s) 0.01 Shiroyama / Japanese ✓\n",
      "335000 33.5% (9m 59.44s) 2.94 Mancuso / Portuguese ✗ (Italian)\n",
      "340000 34.0% (10m 7.99s) 0.32 Bazzi / Arabic ✓\n",
      "345000 34.5% (10m 17.02s) 2.46 Sparacello / Portuguese ✗ (Italian)\n",
      "350000 35.0% (10m 25.86s) 0.10 Mo / Korean ✓\n",
      "355000 35.5% (10m 34.04s) 0.12 Yoon / Korean ✓\n",
      "360000 36.0% (10m 42.25s) 0.00 Kalakos / Greek ✓\n",
      "365000 36.5% (10m 51.65s) 0.03 Trieu / Vietnamese ✓\n",
      "370000 37.0% (11m 0.11s) 0.46 Russell / Scottish ✓\n",
      "375000 37.5% (11m 8.61s) 0.01 Oh  / Korean ✓\n",
      "380000 38.0% (11m 17.97s) 0.01 Martinelli / Italian ✓\n",
      "385000 38.5% (11m 26.53s) 1.03 Poingdestre / French ✓\n",
      "390000 39.0% (11m 34.90s) 2.63 Unruh / Russian ✗ (German)\n",
      "395000 39.5% (11m 43.61s) 0.04 Tuma / Arabic ✓\n",
      "400000 40.0% (11m 52.91s) 0.00 Antonopoulos / Greek ✓\n",
      "405000 40.5% (12m 1.26s) 0.57 Hanek / Czech ✓\n",
      "410000 41.0% (12m 9.74s) 0.30 Tse / Chinese ✓\n",
      "415000 41.5% (12m 19.21s) 2.29 Vliert / German ✗ (Dutch)\n",
      "420000 42.0% (12m 27.56s) 0.60 Tholberg / Dutch ✓\n",
      "425000 42.5% (12m 36.00s) 0.03 Cha / Korean ✓\n",
      "430000 43.0% (12m 45.03s) 0.01 Tsai  / Korean ✓\n",
      "435000 43.5% (12m 54.17s) 1.14 Oyama / Arabic ✗ (Japanese)\n",
      "440000 44.0% (13m 2.71s) 3.89 Poingdestre / Greek ✗ (French)\n",
      "445000 44.5% (13m 11.25s) 2.81 Sienkiewicz / Irish ✗ (Polish)\n",
      "450000 45.0% (13m 20.98s) 2.44 Yoshitomi / Italian ✗ (Japanese)\n",
      "455000 45.5% (13m 30.94s) 3.26 Flores / Greek ✗ (Spanish)\n",
      "460000 46.0% (13m 40.30s) 2.06 Teague / Czech ✗ (Irish)\n",
      "465000 46.5% (13m 50.08s) 1.15 Rahal / Arabic ✓\n",
      "470000 47.0% (13m 58.71s) 3.84 Delacroix / Greek ✗ (French)\n",
      "475000 47.5% (14m 7.26s) 0.68 Vuu / Vietnamese ✓\n",
      "480000 48.0% (14m 16.24s) 2.82 Youj / Portuguese ✗ (Korean)\n",
      "485000 48.5% (14m 25.18s) 1.95 Nomura / Portuguese ✗ (Japanese)\n",
      "490000 49.0% (14m 33.68s) 2.83 Togo / Portuguese ✗ (Japanese)\n",
      "495000 49.5% (14m 42.33s) 2.38 Kaczka / French ✗ (Polish)\n",
      "500000 50.0% (14m 51.91s) 3.41 Elling / Vietnamese ✗ (English)\n",
      "505000 50.5% (15m 0.31s) 2.33 Blades / Czech ✗ (Greek)\n",
      "510000 51.0% (15m 8.73s) 2.48 Panoulias / Arabic ✗ (Greek)\n",
      "515000 51.5% (15m 18.57s) 2.47 Huber / Arabic ✗ (German)\n",
      "520000 52.0% (15m 26.82s) 0.10 Ha / Vietnamese ✓\n",
      "525000 52.5% (15m 34.96s) 2.85 Finnegan / Dutch ✗ (Irish)\n",
      "530000 53.0% (15m 44.42s) 1.99 Yeo / Chinese ✗ (Korean)\n",
      "535000 53.5% (15m 53.43s) 2.66 Romijnders / Irish ✗ (Dutch)\n",
      "540000 54.0% (16m 1.97s) 4.16 Giang / Scottish ✗ (Vietnamese)\n",
      "545000 54.50000000000001% (16m 10.41s) 2.89 Niall / Arabic ✗ (Irish)\n",
      "550000 55.00000000000001% (16m 20.10s) 2.98 Tong / Arabic ✗ (Vietnamese)\n",
      "555000 55.50000000000001% (16m 28.57s) 1.66 Mullins / French ✓\n",
      "560000 56.00000000000001% (16m 36.80s) 2.62 Rojo / Vietnamese ✗ (Spanish)\n",
      "565000 56.49999999999999% (16m 45.82s) 0.91 Ho / Korean ✗ (Vietnamese)\n",
      "570000 56.99999999999999% (16m 55.03s) 1.80 Lauwers / French ✗ (Dutch)\n",
      "575000 57.49999999999999% (17m 3.25s) 2.98 Munro / Polish ✗ (Scottish)\n",
      "580000 57.99999999999999% (17m 11.63s) 1.85 Kolovos / Greek ✓\n",
      "585000 58.5% (17m 21.10s) 3.30 Sokal / Czech ✗ (Polish)\n",
      "590000 59.0% (17m 29.28s) 3.17 Tuzov / Arabic ✗ (Russian)\n",
      "595000 59.5% (17m 37.98s) 3.66 Bando / Polish ✗ (Japanese)\n",
      "600000 60.0% (17m 47.47s) 2.41 O'Byrne / Russian ✗ (Irish)\n",
      "605000 60.5% (17m 56.32s) 3.97 Pinheiro / Russian ✗ (Portuguese)\n",
      "610000 61.0% (18m 4.75s) 3.84 Shammas / Russian ✗ (Arabic)\n",
      "615000 61.5% (18m 13.41s) 5.45 John / Arabic ✗ (Irish)\n",
      "620000 62.0% (18m 22.77s) 1.97 Pang / Korean ✗ (Chinese)\n",
      "625000 62.5% (18m 31.11s) 1.60 Chau / Vietnamese ✓\n",
      "630000 63.0% (18m 39.51s) 1.65 Rijnders / Dutch ✓\n",
      "635000 63.5% (18m 49.34s) 4.84 Dritsas / Scottish ✗ (Greek)\n",
      "640000 64.0% (18m 57.87s) 3.71 Letsos / Japanese ✗ (Greek)\n",
      "645000 64.5% (19m 6.33s) 4.34 Wyrick / Spanish ✗ (Polish)\n",
      "650000 65.0% (19m 15.11s) 3.02 Dubhain / Japanese ✗ (Irish)\n",
      "655000 65.5% (19m 24.11s) 2.20 Cui / Korean ✗ (Chinese)\n",
      "660000 66.0% (19m 32.69s) 2.75 Arena / Japanese ✗ (Spanish)\n",
      "665000 66.5% (19m 41.15s) 3.14 Guadarrama / Irish ✗ (Spanish)\n",
      "670000 67.0% (19m 50.60s) 3.15 Holub / Arabic ✗ (Czech)\n",
      "675000 67.5% (19m 59.29s) 3.14 Sobol / Arabic ✗ (Polish)\n",
      "680000 68.0% (20m 8.07s) 2.15 Cardozo / Irish ✗ (Portuguese)\n",
      "685000 68.5% (20m 17.45s) 2.89 Kunkle / English ✗ (German)\n",
      "690000 69.0% (20m 26.11s) 3.74 Oliver / Italian ✗ (Spanish)\n",
      "695000 69.5% (20m 34.53s) 4.23 Jaso / Vietnamese ✗ (Spanish)\n",
      "700000 70.0% (20m 42.98s) 3.59 Doan / Chinese ✗ (Vietnamese)\n",
      "705000 70.5% (20m 52.47s) 0.05 Vu / Vietnamese ✓\n",
      "710000 71.0% (21m 0.99s) 3.64 Simons / Irish ✗ (German)\n",
      "715000 71.5% (21m 9.75s) 3.00 Tommii / English ✗ (Japanese)\n",
      "720000 72.0% (21m 19.39s) 2.85 Bawtrukevich / Greek ✗ (Russian)\n",
      "725000 72.5% (21m 28.22s) 4.39 O'Connor / Dutch ✗ (Irish)\n",
      "730000 73.0% (21m 36.65s) 2.02 Samuel / English ✗ (Irish)\n",
      "735000 73.5% (21m 45.79s) 2.87 Mckay / French ✗ (Scottish)\n",
      "740000 74.0% (21m 55.11s) 2.97 Leclerc / English ✗ (French)\n",
      "745000 74.5% (22m 3.77s) 3.60 Doyle / Czech ✗ (Irish)\n",
      "750000 75.0% (22m 12.40s) 3.76 Delgado / Italian ✗ (Spanish)\n",
      "755000 75.5% (22m 21.83s) 2.56 Travere / Irish ✗ (French)\n",
      "760000 76.0% (22m 30.54s) 2.92 Number / Arabic ✗ (English)\n",
      "765000 76.5% (22m 39.12s) 3.12 Babineaux / Portuguese ✗ (French)\n",
      "770000 77.0% (22m 48.58s) 2.32 Rudawski / Spanish ✗ (Polish)\n",
      "775000 77.5% (22m 57.02s) 2.44 Yang / Vietnamese ✗ (Korean)\n",
      "780000 78.0% (23m 5.75s) 2.42 Ruadhain / Scottish ✗ (Irish)\n",
      "785000 78.5% (23m 14.59s) 4.64 Shakhnarovich / Vietnamese ✗ (Russian)\n",
      "790000 79.0% (23m 23.52s) 3.11 Dubhain / Polish ✗ (Irish)\n",
      "795000 79.5% (23m 32.08s) 3.05 Mazaki / French ✗ (Japanese)\n",
      "800000 80.0% (23m 40.62s) 2.81 Antony / Portuguese ✗ (English)\n",
      "805000 80.5% (23m 50.28s) 3.78 Manos / Czech ✗ (Greek)\n",
      "810000 81.0% (23m 59.38s) 2.75 O'Grady / Portuguese ✗ (Irish)\n",
      "815000 81.5% (24m 7.93s) 2.69 Dargomyjsky / Greek ✗ (Russian)\n",
      "820000 82.0% (24m 16.96s) 2.77 Christakos / Russian ✗ (Greek)\n",
      "825000 82.5% (24m 25.91s) 3.43 Basurto / Czech ✗ (Portuguese)\n",
      "830000 83.0% (24m 34.54s) 1.94 Gaber / German ✗ (Arabic)\n",
      "835000 83.5% (24m 42.94s) 3.92 Cavey / Dutch ✗ (French)\n",
      "840000 84.0% (24m 52.39s) 2.60 Snijders / Japanese ✗ (Dutch)\n",
      "845000 84.5% (25m 2.75s) 2.27 Antar / Spanish ✗ (Arabic)\n",
      "850000 85.0% (25m 11.11s) 2.49 Ponec / Arabic ✗ (Czech)\n",
      "855000 85.5% (25m 20.76s) 1.38 Joubert / French ✓\n",
      "860000 86.0% (25m 29.13s) 1.61 Youj / Korean ✓\n",
      "865000 86.5% (25m 37.64s) 3.40 Zaloumi / Portuguese ✗ (Greek)\n",
      "870000 87.0% (25m 46.86s) 4.32 Berg / Chinese ✗ (Dutch)\n",
      "875000 87.5% (25m 55.91s) 4.14 Mata / Korean ✗ (Portuguese)\n",
      "880000 88.0% (26m 4.48s) 2.79 Belinsky / Czech ✗ (Russian)\n",
      "885000 88.5% (26m 12.80s) 2.84 Blober / Japanese ✗ (Czech)\n",
      "890000 89.0% (26m 22.26s) 0.82 Hui / Chinese ✓\n",
      "895000 89.5% (26m 30.64s) 3.02 Kieu / Korean ✗ (Vietnamese)\n",
      "900000 90.0% (26m 39.07s) 3.39 Rheem / Chinese ✗ (Korean)\n",
      "905000 90.5% (26m 48.60s) 2.32 Thuy / Chinese ✗ (Vietnamese)\n",
      "910000 91.0% (26m 57.04s) 2.71 Arian / Italian ✗ (Arabic)\n",
      "915000 91.5% (27m 5.64s) 1.86 Rutkowski / Russian ✗ (Polish)\n",
      "920000 92.0% (27m 14.32s) 3.67 Ahearn / Japanese ✗ (Irish)\n",
      "925000 92.5% (27m 23.42s) 3.70 Duncan / Arabic ✗ (Scottish)\n",
      "930000 93.0% (27m 31.73s) 2.35 Picasso / Irish ✗ (Spanish)\n",
      "935000 93.5% (27m 40.41s) 2.86 Martell / Dutch ✗ (Spanish)\n",
      "940000 94.0% (27m 50.09s) 3.61 Martin / English ✗ (French)\n",
      "945000 94.5% (27m 58.59s) 2.18 Sauvageau / Greek ✗ (French)\n",
      "950000 95.0% (28m 7.02s) 3.64 Tunks / Arabic ✗ (English)\n",
      "955000 95.5% (28m 16.01s) 2.72 Andel / Italian ✗ (Dutch)\n",
      "960000 96.0% (28m 24.69s) 4.92 Lyon / Korean ✗ (French)\n",
      "965000 96.5% (28m 33.02s) 3.79 Ajello / Japanese ✗ (Italian)\n",
      "970000 97.0% (28m 41.59s) 3.08 Segers / Scottish ✗ (Dutch)\n",
      "975000 97.5% (28m 50.99s) 3.39 Tasse / Arabic ✗ (French)\n",
      "980000 98.0% (28m 59.39s) 1.73 Jang / Korean ✓\n",
      "985000 98.5% (29m 7.83s) 2.56 Pena / Vietnamese ✗ (Spanish)\n",
      "990000 99.0% (29m 16.94s) 2.37 Stary / Dutch ✗ (Czech)\n",
      "995000 99.5% (29m 25.70s) 2.51 Pinheiro / French ✗ (Portuguese)\n"
     ]
    },
    {
     "data": {
      "text/plain": [
       "'29m 34.22s'"
      ]
     },
     "execution_count": 148,
     "metadata": {},
     "output_type": "execute_result"
    }
   ],
   "source": [
    "current_loss = 0\n",
    "all_losses = []\n",
    "start = time.time()\n",
    "for iter in range(n_iters):\n",
    "    category, line, category_tensor, line_tensor = randomTrainingExample()\n",
    "    \n",
    "    output, loss = train(category_tensor, line_tensor)\n",
    "    current_loss += loss\n",
    "    \n",
    "    if iter % print_every == 0:\n",
    "        guess, guess_i = categoryFromOutput(output)\n",
    "        correct = '✓' if guess == category else '✗ (%s)' % category\n",
    "        print('{} {}% ({}) {:.2f} {} / {} {}'.format(iter, iter/n_iters*100.0,\n",
    "                                                     timeSince(start), loss,\n",
    "                                                     line, guess, correct))\n",
    "    if iter % plot_every == 0:\n",
    "        all_losses.append(current_loss/plot_every)\n",
    "        current_loss=0\n",
    "timeSince(start)"
   ]
  },
  {
   "cell_type": "code",
   "execution_count": 149,
   "metadata": {},
   "outputs": [
    {
     "data": {
      "text/plain": [
       "[<matplotlib.lines.Line2D at 0x7f72ac7c1358>]"
      ]
     },
     "execution_count": 149,
     "metadata": {},
     "output_type": "execute_result"
    },
    {
     "data": {
      "image/png": "[encoded data removed]",
      "text/plain": [
       "<Figure size 432x288 with 1 Axes>"
      ]
     },
     "metadata": {
      "needs_background": "light"
     },
     "output_type": "display_data"
    }
   ],
   "source": [
    "plt.figure()\n",
    "plt.plot(all_losses)"
   ]
  },
  {
   "cell_type": "markdown",
   "metadata": {},
   "source": [
    "# Confusion matrix"
   ]
  },
  {
   "cell_type": "code",
   "execution_count": 150,
   "metadata": {},
   "outputs": [],
   "source": [
    "def evaluate(line_tensor):\n",
    "    hidden = rnn.initHidden()\n",
    "    for i in range(line_tensor.size()[0]):\n",
    "        output, hidden = rnn(line_tensor[i], hidden)\n",
    "    return output"
   ]
  },
  {
   "cell_type": "code",
   "execution_count": 151,
   "metadata": {},
   "outputs": [
    {
     "data": {
      "image/png": "[encoded data removed]",
      "text/plain": [
       "<Figure size 2160x1920 with 2 Axes>"
      ]
     },
     "metadata": {
      "needs_background": "light"
     },
     "output_type": "display_data"
    }
   ],
   "source": [
    "confusion = torch.zeros(len(categories), len(categories))\n",
    "n_confusion = 10000\n",
    "\n",
    "for i in range(n_confusion):\n",
    "    category, line, category_tensor, line_tensor = randomTrainingExample()\n",
    "    output = evaluate(line_tensor)\n",
    "    guess, guess_i = categoryFromOutput(output)\n",
    "    category_i = categories.index(category)\n",
    "    confusion[category_i][guess_i] += 1\n",
    "for i in range(len(categories)):\n",
    "    confusion[i] = confusion[i]/confusion[i].sum()\n",
    "\n",
    "fig = plt.figure(figsize=(18,16), dpi=120)\n",
    "ax = fig.add_subplot(111)\n",
    "cax = ax.matshow(confusion.numpy())\n",
    "fig.colorbar(cax)\n",
    "ax.set_xticklabels([''] + categories, rotation=90)\n",
    "ax.set_yticklabels([''] + categories)\n",
    "ax.xaxis.set_major_locator(ticker.MultipleLocator(1))\n",
    "ax.yaxis.set_major_locator(ticker.MultipleLocator(1))\n",
    "plt.show()"
   ]
  },
  {
   "cell_type": "code",
   "execution_count": 152,
   "metadata": {},
   "outputs": [],
   "source": [
    "    category, line, category_tensor, line_tensor = randomTrainingExample()\n",
    "    output = evaluate(line_tensor)\n",
    "    guess, guess_i = categoryFromOutput(output)\n"
   ]
  },
  {
   "cell_type": "code",
   "execution_count": 130,
   "metadata": {},
   "outputs": [
    {
     "data": {
      "text/plain": [
       "('Japanese', 'Chinese')"
      ]
     },
     "execution_count": 130,
     "metadata": {},
     "output_type": "execute_result"
    }
   ],
   "source": [
    "(category, guess)"
   ]
  },
  {
   "cell_type": "code",
   "execution_count": null,
   "metadata": {},
   "outputs": [],
   "source": []
  }
 ],
 "metadata": {
  "kernelspec": {
   "display_name": "Python 3",
   "language": "python",
   "name": "python3"
  },
  "language_info": {
   "codemirror_mode": {
    "name": "ipython",
    "version": 3
   },
   "file_extension": ".py",
   "mimetype": "text/x-python",
   "name": "python",
   "nbconvert_exporter": "python",
   "pygments_lexer": "ipython3",
   "version": "3.7.1"
  }
 },
 "nbformat": 4,
 "nbformat_minor": 2
}
