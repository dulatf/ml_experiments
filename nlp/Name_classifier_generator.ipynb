{
  "nbformat": 4,
  "nbformat_minor": 0,
  "metadata": {
    "colab": {
      "name": "Name classifier / generator",
      "version": "0.3.2",
      "provenance": []
    },
    "kernelspec": {
      "name": "python3",
      "display_name": "Python 3"
    },
    "accelerator": "GPU"
  },
  "cells": [
    {
      "cell_type": "code",
      "metadata": {
        "id": "3ugtlt8pAbSI",
        "colab_type": "code",
        "outputId": "35dda1b4-0f98-4a50-9cd2-a7f83ca8c6e7",
        "colab": {
          "base_uri": "https://localhost:8080/",
          "height": 484
        }
      },
      "source": [
        "!curl -O https://download.pytorch.org/tutorial/data.zip\n",
        "!unzip data.zip"
      ],
      "execution_count": 0,
      "outputs": [
        {
          "output_type": "stream",
          "text": [
            "  % Total    % Received % Xferd  Average Speed   Time    Time     Time  Current\n",
            "                                 Dload  Upload   Total   Spent    Left  Speed\n",
            "\r  0     0    0     0    0     0      0      0 --:--:-- --:--:-- --:--:--     0\r100 2814k  100 2814k    0     0  18.4M      0 --:--:-- --:--:-- --:--:-- 18.4M\n",
            "Archive:  data.zip\n",
            "   creating: data/\n",
            "  inflating: data/eng-fra.txt        \n",
            "   creating: data/names/\n",
            "  inflating: data/names/Arabic.txt   \n",
            "  inflating: data/names/Chinese.txt  \n",
            "  inflating: data/names/Czech.txt    \n",
            "  inflating: data/names/Dutch.txt    \n",
            "  inflating: data/names/English.txt  \n",
            "  inflating: data/names/French.txt   \n",
            "  inflating: data/names/German.txt   \n",
            "  inflating: data/names/Greek.txt    \n",
            "  inflating: data/names/Irish.txt    \n",
            "  inflating: data/names/Italian.txt  \n",
            "  inflating: data/names/Japanese.txt  \n",
            "  inflating: data/names/Korean.txt   \n",
            "  inflating: data/names/Polish.txt   \n",
            "  inflating: data/names/Portuguese.txt  \n",
            "  inflating: data/names/Russian.txt  \n",
            "  inflating: data/names/Scottish.txt  \n",
            "  inflating: data/names/Spanish.txt  \n",
            "  inflating: data/names/Vietnamese.txt  \n"
          ],
          "name": "stdout"
        }
      ]
    },
    {
      "cell_type": "code",
      "metadata": {
        "id": "mqEz8V2EAgSx",
        "colab_type": "code",
        "colab": {}
      },
      "source": [
        "import glob\n",
        "import unicodedata\n",
        "import string\n",
        "import os\n",
        "import torch\n",
        "import torch.nn as nn\n",
        "import torch.optim as optim\n",
        "import random\n",
        "import time\n",
        "import math\n",
        "import matplotlib.pyplot as plt\n",
        "import matplotlib.ticker as ticker\n",
        "if torch.cuda.is_available():\n",
        "  device = torch.device('cuda')\n",
        "else:\n",
        "  device = torch.device('cpu')"
      ],
      "execution_count": 0,
      "outputs": []
    },
    {
      "cell_type": "code",
      "metadata": {
        "id": "uWDRIxBNbqdH",
        "colab_type": "code",
        "outputId": "6e5d833a-7eb1-4942-c094-d0812cb898f9",
        "colab": {
          "base_uri": "https://localhost:8080/",
          "height": 35
        }
      },
      "source": [
        "device"
      ],
      "execution_count": 0,
      "outputs": [
        {
          "output_type": "execute_result",
          "data": {
            "text/plain": [
              "device(type='cuda')"
            ]
          },
          "metadata": {
            "tags": []
          },
          "execution_count": 5
        }
      ]
    },
    {
      "cell_type": "code",
      "metadata": {
        "id": "52SxnPVNAogo",
        "colab_type": "code",
        "colab": {}
      },
      "source": [
        "filenames = glob.glob('data/names/*.txt')\n",
        "\n",
        "all_letters = string.ascii_letters + \" .,;'\"\n",
        "n_letters = len(all_letters)"
      ],
      "execution_count": 0,
      "outputs": []
    },
    {
      "cell_type": "code",
      "metadata": {
        "id": "a_W_CYHd7CP8",
        "colab_type": "code",
        "colab": {}
      },
      "source": [
        "def unicode_to_ascii(s):\n",
        "  return ''.join(\n",
        "    c for c in unicodedata.normalize('NFD', s)\n",
        "      if unicodedata.category(c) != 'Mn'\n",
        "      and c in all_letters\n",
        "    )\n",
        "def readlines(fname):\n",
        "  lines = open(fname, encoding='utf-8').read().strip().split('\\n')\n",
        "  return list(set([unicode_to_ascii(line) for line in lines]))"
      ],
      "execution_count": 0,
      "outputs": []
    },
    {
      "cell_type": "code",
      "metadata": {
        "id": "ZqmXthgp7IWA",
        "colab_type": "code",
        "colab": {}
      },
      "source": [
        "categories=[]\n",
        "category_dict = {}\n",
        "for fname in filenames:\n",
        "  cat=os.path.splitext(os.path.basename(fname))[0]\n",
        "  categories.append(cat)\n",
        "  category_dict[cat] = readlines(fname)\n",
        "n_categories = len(categories)"
      ],
      "execution_count": 0,
      "outputs": []
    },
    {
      "cell_type": "code",
      "metadata": {
        "id": "-AtOhHeXxYMm",
        "colab_type": "code",
        "colab": {}
      },
      "source": [
        "def letter_to_index(l):\n",
        "  return all_letters.find(l)\n",
        "def letter_to_tensor(l):\n",
        "  ten = torch.zeros(1, n_letters)\n",
        "  ten[0,letter_to_index(l)] = 1.0\n",
        "  return ten\n",
        "def string_to_tensor(s):\n",
        "  ten = torch.zeros(len(s),1,n_letters,device=device)\n",
        "  for i, l in enumerate(s):\n",
        "    ten[i][0][letter_to_index(l)] = 1.0\n",
        "  return ten"
      ],
      "execution_count": 0,
      "outputs": []
    },
    {
      "cell_type": "code",
      "metadata": {
        "id": "tz6xwJSptmgs",
        "colab_type": "code",
        "outputId": "916e8dcd-b11b-4de9-cff6-da4cae571c9f",
        "colab": {
          "base_uri": "https://localhost:8080/",
          "height": 35
        }
      },
      "source": [
        "[letter_to_tensor(l) for l in category_dict['German'][0]]\n",
        "print(string_to_tensor(category_dict['German'][0]).size())"
      ],
      "execution_count": 0,
      "outputs": [
        {
          "output_type": "stream",
          "text": [
            "torch.Size([3, 1, 57])\n"
          ],
          "name": "stdout"
        }
      ]
    },
    {
      "cell_type": "code",
      "metadata": {
        "id": "RXLj9DCzxghL",
        "colab_type": "code",
        "colab": {}
      },
      "source": [
        "class Rnn(nn.Module):\n",
        "  def __init__(self, input_size, hidden_size, output_size):\n",
        "    super(Rnn, self).__init__()\n",
        "    \n",
        "    self.hidden_size = hidden_size\n",
        "    self.i2h = nn.Linear(input_size + hidden_size, hidden_size)\n",
        "    self.i2o = nn.Linear(input_size + hidden_size, output_size)\n",
        "    self.softmax = nn.LogSoftmax(dim=1)\n",
        "  def forward(self, input, hidden):\n",
        "    combined = torch.cat((input, hidden), 1)\n",
        "    hidden = self.i2h(combined)\n",
        "    output = self.i2o(combined)\n",
        "    output = self.softmax(output)\n",
        "    return output, hidden\n",
        "  def initHidden(self):\n",
        "    return torch.zeros(1, self.hidden_size,device=device)\n",
        "\n",
        "n_hidden = 128"
      ],
      "execution_count": 0,
      "outputs": []
    },
    {
      "cell_type": "code",
      "metadata": {
        "id": "5oKRPEN_1iE0",
        "colab_type": "code",
        "colab": {}
      },
      "source": [
        "def categoryFromOutput(out):\n",
        "  top_n, top_i = out.topk(1)\n",
        "  cat_i = top_i[0].item()\n",
        "  return categories[cat_i], cat_i, top_n[0].item()"
      ],
      "execution_count": 0,
      "outputs": []
    },
    {
      "cell_type": "code",
      "metadata": {
        "id": "jD4wb0MX2pmU",
        "colab_type": "code",
        "colab": {}
      },
      "source": [
        "def randomChoice(l):\n",
        "  return l[random.randint(0,len(l)-1)]\n",
        "def randomTrainingExample():\n",
        "  cat = randomChoice(categories)\n",
        "  line = randomChoice(category_dict[cat])\n",
        "  cat_tensor = torch.tensor([categories.index(cat)], dtype=torch.long,device=device)\n",
        "  line_tensor = string_to_tensor(line)\n",
        "  return cat, line, cat_tensor, line_tensor"
      ],
      "execution_count": 0,
      "outputs": []
    },
    {
      "cell_type": "code",
      "metadata": {
        "id": "dsCSlVXKAGSt",
        "colab_type": "code",
        "colab": {}
      },
      "source": [
        "rnn = Rnn(n_letters, n_hidden, n_categories)\n",
        "rnn.cuda()\n",
        "criterion = nn.NLLLoss() \n",
        "learning_rate = 0.005\n",
        "optimizer = optim.SGD(rnn.parameters(), lr=learning_rate)"
      ],
      "execution_count": 0,
      "outputs": []
    },
    {
      "cell_type": "code",
      "metadata": {
        "id": "0HeN81aBC9z7",
        "colab_type": "code",
        "colab": {}
      },
      "source": [
        "def train(category_tensor, line_tesor):\n",
        "  hidden = rnn.initHidden()\n",
        "  \n",
        "  optimizer.zero_grad()\n",
        "  \n",
        "  for i in range(line_tensor.size()[0]):\n",
        "    output, hidden = rnn(line_tensor[i], hidden)\n",
        "  \n",
        "  loss = criterion(output, category_tensor)\n",
        "  loss.backward()\n",
        "  optimizer.step()  \n",
        "  return output, loss.item()"
      ],
      "execution_count": 0,
      "outputs": []
    },
    {
      "cell_type": "code",
      "metadata": {
        "id": "2x-agBnlP8jl",
        "colab_type": "code",
        "colab": {}
      },
      "source": [
        "n_iters = 1000000\n",
        "print_every = 5000\n",
        "plot_every = 1000"
      ],
      "execution_count": 0,
      "outputs": []
    },
    {
      "cell_type": "code",
      "metadata": {
        "id": "mxKWU4E0XM9o",
        "colab_type": "code",
        "colab": {}
      },
      "source": [
        "def timeSince(t):\n",
        "  now = time.time()\n",
        "  s = now - t\n",
        "  m = math.floor(s/60)\n",
        "  s -= m*60\n",
        "  return '{}:{}'.format(m,s)"
      ],
      "execution_count": 0,
      "outputs": []
    },
    {
      "cell_type": "code",
      "metadata": {
        "id": "vAGmOmghX-H4",
        "colab_type": "code",
        "outputId": "f5769df7-7ef5-411b-a1ed-2c6058f971e3",
        "colab": {
          "base_uri": "https://localhost:8080/",
          "height": 3610
        }
      },
      "source": [
        "current_loss = 0\n",
        "all_losses = []\n",
        "start = time.time()\n",
        "\n",
        "for iter in range(1, n_iters+1):\n",
        "  category, line, category_tensor, line_tensor = randomTrainingExample()\n",
        "  output, loss = train(category_tensor, line_tensor)\n",
        "  current_loss += loss\n",
        "  \n",
        "  if iter % print_every == 0:\n",
        "    guess, guess_i, _ = categoryFromOutput(output)\n",
        "    correct = '✓' if guess == category else '✗ ({})'.format(category)\n",
        "    print('{} {}% ({}) {} {} / {} {}'.format(iter, iter / n_iters * 100,\n",
        "                                             timeSince(start), loss, line,\n",
        "                                             guess, correct))\n",
        "  if iter % plot_every == 0:\n",
        "    all_losses.append(current_loss / plot_every)\n",
        "    current_loss = 0"
      ],
      "execution_count": 0,
      "outputs": [
        {
          "output_type": "stream",
          "text": [
            "5000 0.5% (0:10.279640436172485) 2.948561906814575 Mcguire / Japanese ✗ (Irish)\n",
            "10000 1.0% (0:20.640615701675415) 2.591064214706421 Michael / Japanese ✗ (Irish)\n",
            "15000 1.5% (0:30.64179229736328) 2.268768310546875 Lesauvage / Italian ✗ (French)\n",
            "20000 2.0% (0:40.274611949920654) 1.7030527591705322 Selvaggio / Italian ✓\n",
            "25000 2.5% (0:49.91952419281006) 1.6270794868469238 Ryu / Chinese ✗ (Korean)\n",
            "30000 3.0% (0:59.57618284225464) 1.9095617532730103 Bell / German ✗ (Scottish)\n",
            "35000 3.5000000000000004% (1:9.148215770721436) 0.7233662605285645 Pavlicka / Czech ✓\n",
            "40000 4.0% (1:18.868011951446533) 1.740581750869751 Leverenz / Dutch ✗ (German)\n",
            "45000 4.5% (1:28.826258897781372) 2.0176541805267334 Glaisyer / German ✗ (French)\n",
            "50000 5.0% (1:39.463034868240356) 0.8645153045654297 Basurto / Portuguese ✓\n",
            "55000 5.5% (1:48.9641695022583) 1.7340761423110962 Pudel / Czech ✓\n",
            "60000 6.0% (1:58.57266712188721) 3.6889781951904297 Cameron / Irish ✗ (Scottish)\n",
            "65000 6.5% (2:8.20088529586792) 2.2502119541168213 Blumenthal / Czech ✗ (German)\n",
            "70000 7.000000000000001% (2:17.740687608718872) 0.008852005004882812 Mathghamhain / Irish ✓\n",
            "75000 7.5% (2:27.37999391555786) 1.6210522651672363 Pletcher / English ✗ (German)\n",
            "80000 8.0% (2:37.02727961540222) 0.7971765995025635 Zabek / Polish ✓\n",
            "85000 8.5% (2:46.49736309051514) 1.7846565246582031 Kelly / English ✗ (Irish)\n",
            "90000 9.0% (2:57.30783796310425) 1.549060344696045 Bastl / Arabic ✗ (Czech)\n",
            "95000 9.5% (3:6.850141763687134) 1.9828612804412842 She / Korean ✗ (Chinese)\n",
            "100000 10.0% (3:16.513870000839233) 2.8548743724823 Lowe / Korean ✗ (German)\n",
            "105000 10.5% (3:26.211413145065308) 0.08307886123657227 Thuy / Vietnamese ✓\n",
            "110000 11.0% (3:35.78241515159607) 1.1748886108398438 Gagne / French ✓\n",
            "115000 11.5% (3:45.29444193840027) 3.2943286895751953 Soler / Dutch ✗ (Spanish)\n",
            "120000 12.0% (3:54.74814319610596) 1.0085358619689941 Ruvelas / Greek ✓\n",
            "125000 12.5% (4:4.413936138153076) 0.1468052864074707 Quraishi / Arabic ✓\n",
            "130000 13.0% (4:14.839576482772827) 1.3077116012573242 Guan / Chinese ✓\n",
            "135000 13.5% (4:24.891616821289062) 0.0026607513427734375 Trukhachev / Russian ✓\n",
            "140000 14.000000000000002% (4:34.45826482772827) 0.5912313461303711 Nishiwaki / Japanese ✓\n",
            "145000 14.499999999999998% (4:44.83613681793213) 0.43398475646972656 Russkin / Russian ✓\n",
            "150000 15.0% (4:54.749085903167725) 1.3892161846160889 Abbate / Italian ✓\n",
            "155000 15.5% (5:5.710205078125) 2.406435489654541 Arbore / French ✗ (Italian)\n",
            "160000 16.0% (5:15.365702390670776) 0.6886217594146729 Masih / Arabic ✓\n",
            "165000 16.5% (5:24.970842123031616) 0.2173023223876953 Alesi / Italian ✓\n",
            "170000 17.0% (5:35.400481939315796) 1.9879882335662842 Rademaker / Dutch ✗ (German)\n",
            "175000 17.5% (5:45.42958855628967) 2.3420650959014893 Armistead / English ✗ (French)\n",
            "180000 18.0% (5:54.98240113258362) 0.12401008605957031 Jimirov / Russian ✓\n",
            "185000 18.5% (6:4.489435195922852) 1.2195994853973389 Zuraw / Polish ✓\n",
            "190000 19.0% (6:14.003033876419067) 0.29765987396240234 Moralez / Spanish ✓\n",
            "195000 19.5% (6:23.53937005996704) 0.9021010398864746 Haenraats / Dutch ✓\n",
            "200000 20.0% (6:33.13768911361694) 0.0074100494384765625 Kedzierski / Polish ✓\n",
            "205000 20.5% (6:42.67296242713928) 0.3170924186706543 Aggi / Italian ✓\n",
            "210000 21.0% (6:52.605732679367065) 1.3903701305389404 Ebden / German ✗ (English)\n",
            "215000 21.5% (7:3.0665483474731445) 3.323601245880127 Komon / Dutch ✗ (Japanese)\n",
            "220000 22.0% (7:12.616907358169556) 2.0632147789001465 Snell / Scottish ✗ (Dutch)\n",
            "225000 22.5% (7:22.156813144683838) 0.26404714584350586 Taflambas / Greek ✓\n",
            "230000 23.0% (7:31.816229104995728) 3.0616111755371094 Henderson / Scottish ✗ (English)\n",
            "235000 23.5% (7:41.357325315475464) 0.9163460731506348 Ngo / Korean ✗ (Vietnamese)\n",
            "240000 24.0% (7:50.832335233688354) 4.696793079376221 Haimi / Japanese ✗ (Russian)\n",
            "245000 24.5% (8:0.2997756004333496) 0.3184194564819336 Yang / Korean ✓\n",
            "250000 25.0% (8:9.793448209762573) 0.11654472351074219 Do / Vietnamese ✓\n",
            "255000 25.5% (8:20.684588193893433) 0.5248508453369141 Crespo / Portuguese ✓\n",
            "260000 26.0% (8:30.12638545036316) 0.12879657745361328 Anetakis / Greek ✓\n",
            "265000 26.5% (8:39.586145639419556) 1.2307782173156738 Sortras / Portuguese ✗ (Greek)\n",
            "270000 27.0% (8:49.098673820495605) 2.1052074432373047 Dorrian / Irish ✗ (English)\n",
            "275000 27.500000000000004% (8:58.571478843688965) 2.5506129264831543 Williamson / Russian ✗ (English)\n",
            "280000 28.000000000000004% (9:8.154239654541016) 0.5793881416320801 Nishio / Japanese ✓\n",
            "285000 28.499999999999996% (9:17.745426654815674) 0.9338810443878174 Craig / Scottish ✓\n",
            "290000 28.999999999999996% (9:27.248955965042114) 0.7851691246032715 Toma / Arabic ✓\n",
            "295000 29.5% (9:37.805298805236816) 0.19299936294555664 Yoo / Korean ✓\n",
            "300000 30.0% (9:48.398454904556274) 0.03551673889160156 O'Reilly / Irish ✓\n",
            "305000 30.5% (9:57.83532786369324) 3.0385663509368896 Friedrich / English ✗ (German)\n",
            "310000 31.0% (10:8.196553945541382) 0.16802263259887695 Tannous / Arabic ✓\n",
            "315000 31.5% (10:18.570738077163696) 3.288933515548706 Aquila / Spanish ✗ (Italian)\n",
            "320000 32.0% (10:28.077545166015625) 0.26992034912109375 Ngai / Korean ✓\n",
            "325000 32.5% (10:37.56926703453064) 0.003894805908203125 Katsourinis / Greek ✓\n",
            "330000 33.0% (10:47.11327338218689) 0.1481618881225586 Adyrhaev / Russian ✓\n",
            "335000 33.5% (10:57.49461507797241) 1.6019561290740967 Demko / Russian ✗ (Czech)\n",
            "340000 34.0% (11:7.459261655807495) 0.1652545928955078 Grushelevsky / Russian ✓\n",
            "345000 34.5% (11:16.999433517456055) 0.06370115280151367 Bandini / Italian ✓\n",
            "350000 35.0% (11:26.64528250694275) 3.046396255493164 Foss / German ✗ (French)\n",
            "355000 35.5% (11:36.20751333236694) 0.5880818367004395 Zogby / Arabic ✓\n",
            "360000 36.0% (11:45.71541619300842) 0.9410834312438965 Blecha / Czech ✓\n",
            "365000 36.5% (11:55.13563799858093) 0.31884336471557617 Ryoo / Korean ✓\n",
            "370000 37.0% (12:4.7116172313690186) 0.2928781509399414 Kuipers / Dutch ✓\n",
            "375000 37.5% (12:14.707855224609375) 0.007138252258300781 Szczepanski / Polish ✓\n",
            "380000 38.0% (12:25.15558671951294) 1.4499831199645996 Edmondson / Russian ✗ (English)\n",
            "385000 38.5% (12:34.71680665016174) 0.06052875518798828 Xing / Chinese ✓\n",
            "390000 39.0% (12:44.312713861465454) 0.21965837478637695 Cathain / Irish ✓\n",
            "395000 39.5% (12:53.77474093437195) 3.395454168319702 Jordan / Polish ✗ (French)\n",
            "400000 40.0% (13:3.2831339836120605) 0.1535625457763672 Tuma / Arabic ✓\n",
            "405000 40.5% (13:12.89703106880188) 1.4657564163208008 Braun / German ✓\n",
            "410000 41.0% (13:22.65494728088379) 0.08424758911132812 Reynder / Dutch ✓\n",
            "415000 41.5% (13:32.82346534729004) 0.31185483932495117 Castro / Portuguese ✓\n",
            "420000 42.0% (13:43.67826461791992) 0.1654958724975586 Harb / Arabic ✓\n",
            "425000 42.5% (13:53.606630086898804) 0.61297607421875 Esteves / Portuguese ✓\n",
            "430000 43.0% (14:3.5122311115264893) 4.194902420043945 Jonas / Greek ✗ (Czech)\n",
            "435000 43.5% (14:13.257267951965332) 0.03186321258544922 Zheng / Chinese ✓\n",
            "440000 44.0% (14:22.88469362258911) 0.31386327743530273 Lichtenberg / German ✓\n",
            "445000 44.5% (14:32.527533292770386) 0.11110401153564453 Tieu / Vietnamese ✓\n",
            "450000 45.0% (14:42.05143475532532) 0.08130073547363281 Kijek / Polish ✓\n",
            "455000 45.5% (14:52.40744209289551) 0.2714109420776367 Yan / Chinese ✓\n",
            "460000 46.0% (15:3.3019566535949707) 0.28858089447021484 Ping / Chinese ✓\n",
            "465000 46.5% (15:12.889477729797363) 0.6071224212646484 Donndubhan / Irish ✓\n",
            "470000 47.0% (15:24.117196559906006) 2.606841564178467 Muir / German ✗ (Scottish)\n",
            "475000 47.5% (15:33.70593190193176) 0.13033437728881836 Stevenson / Scottish ✓\n",
            "480000 48.0% (15:43.34280180931091) 1.2005019187927246 Ha / Vietnamese ✗ (Korean)\n",
            "485000 48.5% (15:52.89318132400513) 0.08619022369384766 Palladino / Italian ✓\n",
            "490000 49.0% (16:2.506911516189575) 1.215031623840332 Leandres / French ✓\n",
            "495000 49.5% (16:12.118579149246216) 0.7118053436279297 Freitas / Portuguese ✓\n",
            "500000 50.0% (16:23.01667046546936) 0.36746788024902344 Anderson / Scottish ✓\n",
            "505000 50.5% (16:32.61774253845215) 0.11033153533935547 Michalaras / Greek ✓\n",
            "510000 51.0% (16:42.23852348327637) 0.3170604705810547 Kanaan / Arabic ✓\n",
            "515000 51.5% (16:51.83757448196411) 0.007843017578125 Frangopoulos / Greek ✓\n",
            "520000 52.0% (17:1.479508399963379) 2.4670867919921875 Svotchak / Polish ✗ (Czech)\n",
            "525000 52.5% (17:11.041610717773438) 2.2653067111968994 Martin / Arabic ✗ (Scottish)\n",
            "530000 53.0% (17:20.66058611869812) 0.03161144256591797 Rademakers / Dutch ✓\n",
            "535000 53.5% (17:30.390936374664307) 2.9458999633789062 Macias / Greek ✗ (Spanish)\n",
            "540000 54.0% (17:40.89371299743652) 0.5140552520751953 Mui / Chinese ✓\n",
            "545000 54.50000000000001% (17:50.787022829055786) 0.2769637107849121 Fan / Chinese ✓\n",
            "550000 55.00000000000001% (18:0.39560818672180176) 0.42736101150512695 Fonseca / Portuguese ✓\n",
            "555000 55.50000000000001% (18:9.817852258682251) 0.3310837745666504 Alinari / Italian ✓\n",
            "560000 56.00000000000001% (18:19.353875160217285) 0.5369977951049805 D'angelo / Italian ✓\n",
            "565000 56.49999999999999% (18:28.907690286636353) 0.24145221710205078 Salvage / French ✓\n",
            "570000 56.99999999999999% (18:38.52172660827637) 1.5308904647827148 Kim / Korean ✗ (Vietnamese)\n",
            "575000 57.49999999999999% (18:48.01234531402588) 0.013910770416259766 Digurov / Russian ✓\n",
            "580000 57.99999999999999% (18:58.00077438354492) 0.0844736099243164 Imamura / Japanese ✓\n",
            "585000 58.5% (19:8.424520492553711) 0.5021653175354004 Yeo / Korean ✓\n",
            "590000 59.0% (19:18.0285484790802) 3.7322897911071777 Tsoumada / Japanese ✗ (Greek)\n",
            "595000 59.5% (19:27.51534628868103) 0.5818953514099121 Humaryan / Russian ✓\n",
            "600000 60.0% (19:37.039742946624756) 0.7993812561035156 Rhys / Irish ✓\n",
            "605000 60.5% (19:46.61455965042114) 0.010059356689453125 O'Connell / Irish ✓\n",
            "610000 61.0% (19:56.94086241722107) 0.08577823638916016 Grygarova / Czech ✓\n",
            "615000 61.5% (20:6.472106218338013) 0.28199052810668945 Nowak / Polish ✓\n",
            "620000 62.0% (20:16.160402297973633) 1.1652460098266602 Bobienski / Russian ✗ (Polish)\n",
            "625000 62.5% (20:27.26363515853882) 0.9762253761291504 Sergeant / French ✓\n",
            "630000 63.0% (20:38.21826887130737) 0.5090541839599609 Vipond / French ✓\n",
            "635000 63.5% (20:47.83142638206482) 0.653050422668457 Filipek / Polish ✓\n",
            "640000 64.0% (20:57.73819422721863) 0.7246789932250977 Oelberg / German ✓\n",
            "645000 64.5% (21:7.6711266040802) 0.02999401092529297 D'cruze / Portuguese ✓\n",
            "650000 65.0% (21:17.435617446899414) 1.8058972358703613 Serafin / Irish ✗ (Polish)\n",
            "655000 65.5% (21:27.06012988090515) 2.5791563987731934 Armistead / Scottish ✗ (French)\n",
            "660000 66.0% (21:36.76785445213318) 2.7063608169555664 Skokan / Japanese ✗ (Czech)\n",
            "665000 66.5% (21:47.55326986312866) 0.6841192245483398 OwYang / Chinese ✓\n",
            "670000 67.0% (21:57.238388776779175) 0.14455652236938477 Winograd / Polish ✓\n",
            "675000 67.5% (22:6.823075532913208) 2.389495849609375 Klimes / Dutch ✗ (Czech)\n",
            "680000 68.0% (22:16.52546977996826) 1.6504790782928467 Losa / Czech ✗ (Spanish)\n",
            "685000 68.5% (22:26.16385579109192) 0.017714500427246094 Rodrigues / Portuguese ✓\n",
            "690000 69.0% (22:35.71209502220154) 0.698399543762207 Marquez / Spanish ✓\n",
            "695000 69.5% (22:45.23568415641785) 1.126309871673584 Marek / Czech ✗ (Polish)\n",
            "700000 70.0% (22:54.8206901550293) 0.12485504150390625 Oswald / English ✓\n",
            "705000 70.5% (23:5.502419710159302) 1.4445114135742188 Kelly / English ✗ (Scottish)\n",
            "710000 71.0% (23:15.189030170440674) 0.23635005950927734 Harb / Arabic ✓\n",
            "715000 71.5% (23:24.827216625213623) 0.05546092987060547 Skomicka / Czech ✓\n",
            "720000 72.0% (23:34.460225105285645) 0.8112177848815918 Kuai / Chinese ✓\n",
            "725000 72.5% (23:44.06001377105713) 3.9670021533966064 Meszes / Portuguese ✗ (Czech)\n",
            "730000 73.0% (23:53.50893783569336) 1.8767759799957275 Jesson / Polish ✗ (English)\n",
            "735000 73.5% (24:3.103553056716919) 0.2803225517272949 Hua / Chinese ✓\n",
            "740000 74.0% (24:12.880067348480225) 0.031230926513671875 Xiao / Chinese ✓\n",
            "745000 74.5% (24:23.235039472579956) 1.587484359741211 Freund / French ✗ (German)\n",
            "750000 75.0% (24:33.358174085617065) 0.2681899070739746 Nagata / Japanese ✓\n",
            "755000 75.5% (24:42.942875385284424) 3.446803569793701 Seger / German ✗ (Czech)\n",
            "760000 76.0% (24:52.4940185546875) 0.48564910888671875 Mcintosh / Scottish ✓\n",
            "765000 76.5% (25:2.8506202697753906) 1.8550422191619873 Nason / Arabic ✗ (English)\n",
            "770000 77.0% (25:12.343942165374756) 0.8001666069030762 Lohrenz / German ✓\n",
            "775000 77.5% (25:21.847402334213257) 0.26705360412597656 Shang / Chinese ✓\n",
            "780000 78.0% (25:31.469534158706665) 4.664445877075195 Hakimi / Japanese ✗ (Arabic)\n",
            "785000 78.5% (25:42.31257748603821) 0.5770092010498047 Albuquerque / Portuguese ✓\n",
            "790000 79.0% (25:52.77393341064453) 1.3354811668395996 Basara / Japanese ✗ (Arabic)\n",
            "795000 79.5% (26:2.349027395248413) 0.6648693084716797 Lauwers / Dutch ✓\n",
            "800000 80.0% (26:11.876080751419067) 0.44195032119750977 Patenaude / French ✓\n",
            "805000 80.5% (26:21.414889335632324) 1.0110821723937988 Tao / Vietnamese ✗ (Chinese)\n",
            "810000 81.0% (26:31.068333387374878) 0.5794267654418945 Min / Chinese ✓\n",
            "815000 81.5% (26:40.884498834609985) 0.43512964248657227 Vivas / Spanish ✓\n",
            "820000 82.0% (26:50.57427716255188) 0.2593059539794922 Thi / Vietnamese ✓\n",
            "825000 82.5% (27:0.37125349044799805) 0.01514434814453125 Nguyen / Vietnamese ✓\n",
            "830000 83.0% (27:11.139647006988525) 2.5841329097747803 Blades / Spanish ✗ (Greek)\n",
            "835000 83.5% (27:20.600547790527344) 2.7243950366973877 Nave / French ✗ (Italian)\n",
            "840000 84.0% (27:30.242518186569214) 1.825850009918213 Dong / Vietnamese ✗ (Chinese)\n",
            "845000 84.5% (27:39.8183012008667) 3.5814802646636963 Spoerl / Dutch ✗ (Czech)\n",
            "850000 85.0% (27:49.46294569969177) 0.20810413360595703 Bilias / Greek ✓\n",
            "855000 85.5% (27:59.11307168006897) 0.2327132225036621 Guadarrama / Spanish ✓\n",
            "860000 86.0% (28:8.735242366790771) 0.09364080429077148 Desjardins / French ✓\n",
            "865000 86.5% (28:18.303614616394043) 0.0030431747436523438 Quattrocchi / Italian ✓\n",
            "870000 87.0% (28:29.08050847053528) 0.012905120849609375 O'Connor / Irish ✓\n",
            "875000 87.5% (28:38.70576190948486) 0.379150390625 Tron / Vietnamese ✓\n",
            "880000 88.0% (28:48.15418577194214) 0.5145316123962402 Raikin / Russian ✓\n",
            "885000 88.5% (28:57.70609092712402) 0.0014019012451171875 Okimasa / Japanese ✓\n",
            "890000 89.0% (29:7.201183080673218) 0.9601156711578369 Michel / Polish ✓\n",
            "895000 89.5% (29:16.745216369628906) 0.4073505401611328 Rim / Korean ✓\n",
            "900000 90.0% (29:26.338965892791748) 0.5115175247192383 Jiao / Chinese ✓\n",
            "905000 90.5% (29:35.86395621299744) 1.2425150871276855 Orellana / Italian ✗ (Spanish)\n",
            "910000 91.0% (29:46.17526459693909) 0.025788307189941406 Yeon / Korean ✓\n",
            "915000 91.5% (29:56.21977996826172) 0.20285320281982422 Hui / Chinese ✓\n",
            "920000 92.0% (30:6.581490993499756) 2.2823047637939453 Antonowitz / Polish ✗ (Czech)\n",
            "925000 92.5% (30:16.093326568603516) 0.9041748046875 Rory / Irish ✓\n",
            "930000 93.0% (30:25.645687103271484) 0.0012969970703125 Moshnikov / Russian ✓\n",
            "935000 93.5% (30:35.224565505981445) 0.04777812957763672 Bukowski / Polish ✓\n",
            "940000 94.0% (30:44.799036502838135) 0.28966665267944336 Ramsay / Scottish ✓\n",
            "945000 94.5% (30:56.04559135437012) 1.2722978591918945 Krauss / German ✓\n",
            "950000 95.0% (31:6.219998598098755) 0.16170501708984375 Lim  / Korean ✓\n",
            "955000 95.5% (31:16.362272262573242) 1.5124075412750244 Kattan / Dutch ✗ (Arabic)\n",
            "960000 96.0% (31:26.003588676452637) 0.012928009033203125 Yokokawa / Japanese ✓\n",
            "965000 96.5% (31:35.57692289352417) 0.033827781677246094 Fakhoury / Arabic ✓\n",
            "970000 97.0% (31:45.0663378238678) 1.5037317276000977 Carroll / Irish ✗ (English)\n",
            "975000 97.5% (31:54.53011727333069) 3.4241325855255127 Jamoido / Japanese ✗ (Russian)\n",
            "980000 98.0% (32:4.109065294265747) 1.0514206886291504 Ding / Vietnamese ✗ (Chinese)\n",
            "985000 98.5% (32:13.72695779800415) 0.3618912696838379 Gibson / Scottish ✓\n",
            "990000 99.0% (32:23.54000210762024) 0.6380429267883301 Trieu / Vietnamese ✓\n",
            "995000 99.5% (32:34.175225496292114) 0.9657378196716309 Heaton / English ✓\n",
            "1000000 100.0% (32:43.813034534454346) 0.5961027145385742 Anderson / Scottish ✓\n"
          ],
          "name": "stdout"
        }
      ]
    },
    {
      "cell_type": "code",
      "metadata": {
        "id": "whmS0vvmZOAH",
        "colab_type": "code",
        "outputId": "8fb4985a-5ef6-4456-99f4-28f2ed189c56",
        "colab": {
          "base_uri": "https://localhost:8080/",
          "height": 287
        }
      },
      "source": [
        "plt.figure()\n",
        "plt.plot(all_losses)"
      ],
      "execution_count": 0,
      "outputs": [
        {
          "output_type": "execute_result",
          "data": {
            "text/plain": [
              "[<matplotlib.lines.Line2D at 0x7f7f8a235898>]"
            ]
          },
          "metadata": {
            "tags": []
          },
          "execution_count": 22
        },
        {
          "output_type": "display_data",
          "data": {
            "image/png": "[encoded data removed]",
            "text/plain": [
              "<Figure size 432x288 with 1 Axes>"
            ]
          },
          "metadata": {
            "tags": []
          }
        }
      ]
    },
    {
      "cell_type": "code",
      "metadata": {
        "id": "8l_I4D33a34Y",
        "colab_type": "code",
        "colab": {}
      },
      "source": [
        "def evaluate(line_tensor):\n",
        "  hidden = rnn.initHidden()\n",
        "  for i in range(line_tensor.size()[0]):\n",
        "    output, hidden = rnn(line_tensor[i], hidden)\n",
        "  return output"
      ],
      "execution_count": 0,
      "outputs": []
    },
    {
      "cell_type": "code",
      "metadata": {
        "id": "fZrGC-PHd3k2",
        "colab_type": "code",
        "colab": {}
      },
      "source": [
        "confusion = torch.zeros(n_categories, n_categories, device=device)\n",
        "n_confusion = 10000\n",
        "for i in range(n_confusion):\n",
        "  category, line, category_tensor, line_tensor = randomTrainingExample()\n",
        "  output = evaluate(line_tensor)\n",
        "  guess, guess_i, _ = categoryFromOutput(output)\n",
        "  category_i = categories.index(category)\n",
        "  confusion[category_i][guess_i] += 1"
      ],
      "execution_count": 0,
      "outputs": []
    },
    {
      "cell_type": "code",
      "metadata": {
        "id": "h7xXulrhd8pP",
        "colab_type": "code",
        "outputId": "f8b20335-d3fd-4e8d-93b6-a179f62beb37",
        "colab": {
          "base_uri": "https://localhost:8080/",
          "height": 717
        }
      },
      "source": [
        "for i in range(n_categories):\n",
        "  confusion[i] = confusion[i] / confusion[i].sum()\n",
        "\n",
        "fig = plt.figure(figsize=(12,12))\n",
        "ax = fig.add_subplot(111)\n",
        "cax = ax.matshow(confusion.cpu().numpy())\n",
        "fig.colorbar(cax)\n",
        "ax.set_xticklabels(['']+categories,rotation=90)\n",
        "ax.set_yticklabels(['']+categories)\n",
        "ax.xaxis.set_major_locator(ticker.MultipleLocator(1))\n",
        "ax.yaxis.set_major_locator(ticker.MultipleLocator(1))\n",
        "plt.show()"
      ],
      "execution_count": 0,
      "outputs": [
        {
          "output_type": "display_data",
          "data": {
            "image/png": "[encoded data removed]",
            "text/plain": [
              "<Figure size 864x864 with 2 Axes>"
            ]
          },
          "metadata": {
            "tags": []
          }
        }
      ]
    },
    {
      "cell_type": "code",
      "metadata": {
        "id": "Rv4PSTLFsvMU",
        "colab_type": "code",
        "colab": {}
      },
      "source": [
        ""
      ],
      "execution_count": 0,
      "outputs": []
    }
  ]
}